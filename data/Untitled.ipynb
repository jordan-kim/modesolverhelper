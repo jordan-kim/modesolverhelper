{
 "cells": [
  {
   "cell_type": "code",
   "execution_count": 7,
   "metadata": {},
   "outputs": [
    {
     "name": "stdout",
     "output_type": "stream",
     "text": [
      "Requirement already satisfied: modesolverpy in c:\\users\\dream\\anaconda3\\lib\\site-packages (0.4.4)\n",
      "Requirement already satisfied: scipy in c:\\users\\dream\\anaconda3\\lib\\site-packages (from modesolverpy) (1.5.2)\n",
      "Requirement already satisfied: matplotlib in c:\\users\\dream\\anaconda3\\lib\\site-packages (from modesolverpy) (3.3.2)\n",
      "Requirement already satisfied: numpy in c:\\users\\dream\\anaconda3\\lib\\site-packages (from modesolverpy) (1.19.2)\n",
      "Requirement already satisfied: opticalmaterialspy in c:\\users\\dream\\anaconda3\\lib\\site-packages (from modesolverpy) (0.3.3)\n",
      "Requirement already satisfied: future in c:\\users\\dream\\anaconda3\\lib\\site-packages (from modesolverpy) (0.18.2)\n",
      "Requirement already satisfied: gnuplotpy in c:\\users\\dream\\anaconda3\\lib\\site-packages (from modesolverpy) (0.3)\n",
      "Requirement already satisfied: tqdm in c:\\users\\dream\\anaconda3\\lib\\site-packages (from modesolverpy) (4.50.2)\n",
      "Requirement already satisfied: pillow>=6.2.0 in c:\\users\\dream\\anaconda3\\lib\\site-packages (from matplotlib->modesolverpy) (8.0.1)\n",
      "Requirement already satisfied: cycler>=0.10 in c:\\users\\dream\\anaconda3\\lib\\site-packages (from matplotlib->modesolverpy) (0.10.0)\n",
      "Requirement already satisfied: certifi>=2020.06.20 in c:\\users\\dream\\anaconda3\\lib\\site-packages (from matplotlib->modesolverpy) (2020.6.20)\n",
      "Requirement already satisfied: kiwisolver>=1.0.1 in c:\\users\\dream\\anaconda3\\lib\\site-packages (from matplotlib->modesolverpy) (1.3.0)\n",
      "Requirement already satisfied: python-dateutil>=2.1 in c:\\users\\dream\\anaconda3\\lib\\site-packages (from matplotlib->modesolverpy) (2.8.1)\n",
      "Requirement already satisfied: pyparsing!=2.0.4,!=2.1.2,!=2.1.6,>=2.0.3 in c:\\users\\dream\\anaconda3\\lib\\site-packages (from matplotlib->modesolverpy) (2.4.7)\n",
      "Requirement already satisfied: six in c:\\users\\dream\\anaconda3\\lib\\site-packages (from cycler>=0.10->matplotlib->modesolverpy) (1.15.0)\n"
     ]
    }
   ],
   "source": [
    "!pip install modesolverpy"
   ]
  },
  {
   "cell_type": "code",
   "execution_count": 9,
   "metadata": {},
   "outputs": [],
   "source": [
    "import modesolverpy.mode_solver as ms\n",
    "import modesolverpy.structure as st\n",
    "import numpy as np\n",
    "import pandas as pd\n",
    "import matplotlib.pyplot as plt"
   ]
  },
  {
   "cell_type": "code",
   "execution_count": 24,
   "metadata": {},
   "outputs": [],
   "source": [
    "total_list = [] # element : [w_wg,t_soi,t_slab,n_eff]\n",
    "t_soi_list = [round(0.2 + 0.01*i,2) for i in range(0,31)] # 0.2 ~ 0.5\n",
    "\n",
    "\n",
    "def find_n_eff(wg_width:float)->float:\n",
    "    x_step = 0.02\n",
    "    y_step = 0.02\n",
    "    sub_height = 0.5\n",
    "    sub_width = 2.\n",
    "    n_sub = 1.4\n",
    "    n_wg = 3.4\n",
    "    n_clad = 1.\n",
    "    wavelength = 1.55\n",
    "    angle = 90.\n",
    "    clad_height = 0.5\n",
    "    wg_height = 0.4\n",
    "    film_thickness = 0.5\n",
    "    structure = st.RidgeWaveguide(wavelength, x_step, y_step, wg_height,wg_width,sub_height,sub_width,clad_height,n_sub,n_wg,angle,n_clad,film_thickness)\n",
    "    mode_solver = ms.ModeSolverSemiVectorial(4, semi_vectorial_method='Ex') \n",
    "    a = mode_solver.solve(structure)\n",
    "    return a[\"n_effs\"][1].real"
   ]
  },
  {
   "cell_type": "code",
   "execution_count": 27,
   "metadata": {},
   "outputs": [],
   "source": [
    "w_wg_list = [round(0.2 +0.01*i,2) for i in range(0,81)]\n",
    "total_list = []\n",
    "for i in w_wg_list:\n",
    "    l = find_n_eff(i)\n",
    "    total_list.append(l)"
   ]
  },
  {
   "cell_type": "code",
   "execution_count": 29,
   "metadata": {},
   "outputs": [
    {
     "name": "stdout",
     "output_type": "stream",
     "text": [
      "[1.2299829258782797, 1.2299829261296114, 1.271541262907381, 1.3150326337834959, 1.3150326336322415, 1.3150326337976141, 1.3150326337766267, 1.400607300559587, 1.4006073008948803, 1.4006073006669952, 1.4006072982114237, 1.4775414179646837, 1.4775414179071191, 1.4775414178328976, 1.4775414189758567, 1.5893586132112107, 1.589358613344037, 1.5893586132323754, 1.5893586133112934, 1.797956543801388, 1.7979565438015304, 1.7979565438015113, 1.8878443439760377, 1.96912476611683, 1.9691247661168172, 1.9691247661168387, 2.04267993504578, 2.1093556641299296, 2.1093556641299145, 2.1093556641299376, 2.1699227796342466, 2.2250690944729374, 2.2250690944728824, 2.2250690944729508, 2.2754002817859904, 2.321447522338908, 2.321447522338905, 2.321447522338861, 2.3636750188160964, 2.4024888748068065, 2.402488874806795, 2.40248887480688, 2.438244239360628, 2.4712526207852177, 2.4712526207858585, 2.4712526207755303, 2.530089587436913, 2.530089587431034, 2.530089587428348, 2.530089587414714, 2.5563714943974314, 2.5808212796974312, 2.580821279700412, 2.580821279697052, 2.6036056318869196, 2.6248729528507253, 2.6248729528698798, 2.624872952873653, 2.644755348098786, 2.6633710533492216, 2.663371053739095, 2.663371053689035, 2.6808257698901654, 2.6972145969493595, 2.6972145977797846, 2.6972145979595847, 2.7126228721432586, 2.727127780272879, 2.7271277782089456, 2.7271277782220382, 2.7407987826972455, 2.753699068735026, 2.7536990687329563, 2.7536990687311125, 2.765885617868237, 2.7774105741202506, 2.7774105741283193, 2.777410574161815, 2.7883209988750517, 2.798660266500332, 2.798660266557918]\n"
     ]
    }
   ],
   "source": [
    "print(total_list)"
   ]
  },
  {
   "cell_type": "code",
   "execution_count": null,
   "metadata": {},
   "outputs": [],
   "source": []
  }
 ],
 "metadata": {
  "kernelspec": {
   "display_name": "Python 3",
   "language": "python",
   "name": "python3"
  },
  "language_info": {
   "codemirror_mode": {
    "name": "ipython",
    "version": 3
   },
   "file_extension": ".py",
   "mimetype": "text/x-python",
   "name": "python",
   "nbconvert_exporter": "python",
   "pygments_lexer": "ipython3",
   "version": "3.8.5"
  }
 },
 "nbformat": 4,
 "nbformat_minor": 4
}
